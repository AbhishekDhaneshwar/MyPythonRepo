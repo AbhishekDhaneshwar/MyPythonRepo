{
 "cells": [
  {
   "cell_type": "markdown",
   "id": "67456ae5",
   "metadata": {},
   "source": [
    "# Conditional Statement"
   ]
  },
  {
   "cell_type": "code",
   "execution_count": 1,
   "id": "f4360301",
   "metadata": {},
   "outputs": [
    {
     "name": "stdout",
     "output_type": "stream",
     "text": [
      "x is greater than 20\n"
     ]
    }
   ],
   "source": [
    "x=39\n",
    "if x<20:\n",
    "    print (\"x is less than 20\")\n",
    "else :\n",
    "    print (\"x is greater than 20\")\n",
    "        "
   ]
  },
  {
   "cell_type": "code",
   "execution_count": 3,
   "id": "3fbe448b",
   "metadata": {},
   "outputs": [
    {
     "name": "stdout",
     "output_type": "stream",
     "text": [
      "I can buy a nokia + \n"
     ]
    }
   ],
   "source": [
    "income=100\n",
    "if income < 100 :\n",
    "    print (\"I can buy a nokia\")\n",
    "elif income < 150 :\n",
    "    print (\"I can buy a nokia + \")\n",
    "else :\n",
    "    print (\"I can buy an iphone\")"
   ]
  },
  {
   "cell_type": "code",
   "execution_count": null,
   "id": "da36c457",
   "metadata": {},
   "outputs": [],
   "source": [
    "name=input()\n",
    "print (\"Please enter name\")\n",
    "print (\"My name is : \" , name)"
   ]
  },
  {
   "cell_type": "code",
   "execution_count": null,
   "id": "a410e55b",
   "metadata": {},
   "outputs": [],
   "source": [
    "income=int(input())\n"
   ]
  },
  {
   "cell_type": "code",
   "execution_count": null,
   "id": "183591be",
   "metadata": {},
   "outputs": [],
   "source": [
    "print (\"My name is : \" , name)"
   ]
  },
  {
   "cell_type": "code",
   "execution_count": null,
   "id": "825f63cd",
   "metadata": {},
   "outputs": [],
   "source": [
    "print (\"My name is : \" +  name)"
   ]
  },
  {
   "cell_type": "code",
   "execution_count": null,
   "id": "fe65445e",
   "metadata": {},
   "outputs": [],
   "source": [
    "l=[1,2,3,4,5,6,7,7]"
   ]
  },
  {
   "cell_type": "code",
   "execution_count": null,
   "id": "aca3cb52",
   "metadata": {},
   "outputs": [],
   "source": [
    "fruits = [\"apple\", \"banana\", \"cherry\"]\n",
    "for x in fruits:\n",
    "  print(x)"
   ]
  },
  {
   "cell_type": "code",
   "execution_count": 2,
   "id": "5540f630",
   "metadata": {
    "scrolled": true
   },
   "outputs": [
    {
     "name": "stdout",
     "output_type": "stream",
     "text": [
      "apple\n",
      "banana\n",
      "cherry\n"
     ]
    }
   ],
   "source": [
    "fruits = [\"apple\", \"banana\", \"cherry\"]\n",
    "for x in fruits:\n",
    "  print(x)"
   ]
  },
  {
   "cell_type": "code",
   "execution_count": 16,
   "id": "45b166ca",
   "metadata": {
    "scrolled": false
   },
   "outputs": [
    {
     "name": "stdout",
     "output_type": "stream",
     "text": [
      "1\n",
      "2\n",
      "3\n",
      "4\n",
      "5\n",
      "6\n",
      "7\n",
      "7\n",
      "Abhi\n",
      "nagpur\n"
     ]
    }
   ],
   "source": [
    "l=[1,2,3,4,5,6,7,7, \"Abhi\", \"nagpur\"]\n",
    "for i in l :\n",
    "    print(i)"
   ]
  },
  {
   "cell_type": "code",
   "execution_count": 12,
   "id": "29287db0",
   "metadata": {
    "scrolled": false
   },
   "outputs": [
    {
     "name": "stdout",
     "output_type": "stream",
     "text": [
      "[1]\n",
      "[2]\n",
      "[3]\n",
      "[4]\n",
      "[5]\n",
      "[6]\n",
      "[7]\n",
      "[7]\n",
      "['Abhi']\n",
      "['nagpur']\n"
     ]
    }
   ],
   "source": [
    "l=[1,2,3,4,5,6,7,7, \"Abhi\", \"nagpur\"]\n",
    "for i in l :\n",
    "    print([i])"
   ]
  },
  {
   "cell_type": "code",
   "execution_count": 13,
   "id": "8dd56d82",
   "metadata": {
    "scrolled": true
   },
   "outputs": [
    {
     "name": "stdout",
     "output_type": "stream",
     "text": [
      "Abhi\n",
      "nagpur\n"
     ]
    }
   ],
   "source": [
    "for i in l :\n",
    "    if type(i) == str :\n",
    "        print(i)"
   ]
  },
  {
   "cell_type": "code",
   "execution_count": 5,
   "id": "db403ade",
   "metadata": {
    "scrolled": false
   },
   "outputs": [
    {
     "name": "stdout",
     "output_type": "stream",
     "text": [
      "1\n",
      "4\n",
      "9\n",
      "16\n",
      "25\n",
      "36\n",
      "49\n",
      "49\n"
     ]
    }
   ],
   "source": [
    "for i in l :\n",
    "    if type(i) == int :\n",
    "        print(i*i)"
   ]
  },
  {
   "cell_type": "code",
   "execution_count": 6,
   "id": "883ca999",
   "metadata": {
    "scrolled": false
   },
   "outputs": [
    {
     "name": "stdout",
     "output_type": "stream",
     "text": [
      "Abhi\n"
     ]
    }
   ],
   "source": [
    "print(\"Abhi\")"
   ]
  },
  {
   "cell_type": "code",
   "execution_count": null,
   "id": "be01ed31",
   "metadata": {},
   "outputs": [],
   "source": []
  }
 ],
 "metadata": {
  "kernelspec": {
   "display_name": "Python 3",
   "language": "python",
   "name": "python3"
  },
  "language_info": {
   "codemirror_mode": {
    "name": "ipython",
    "version": 3
   },
   "file_extension": ".py",
   "mimetype": "text/x-python",
   "name": "python",
   "nbconvert_exporter": "python",
   "pygments_lexer": "ipython3",
   "version": "3.8.8"
  }
 },
 "nbformat": 4,
 "nbformat_minor": 5
}
