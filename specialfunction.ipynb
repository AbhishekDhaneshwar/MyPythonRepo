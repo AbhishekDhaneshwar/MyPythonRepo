{
 "cells": [
  {
   "cell_type": "markdown",
   "id": "1fc49464",
   "metadata": {},
   "source": [
    "# Functions (Generic functions)"
   ]
  },
  {
   "cell_type": "code",
   "execution_count": 1,
   "id": "f318b2a8",
   "metadata": {},
   "outputs": [],
   "source": [
    "def test(a,b):\n",
    "    return a,b;"
   ]
  },
  {
   "cell_type": "code",
   "execution_count": 3,
   "id": "973084dc",
   "metadata": {},
   "outputs": [
    {
     "data": {
      "text/plain": [
       "tuple"
      ]
     },
     "execution_count": 3,
     "metadata": {},
     "output_type": "execute_result"
    }
   ],
   "source": [
    "type(test(2,3))"
   ]
  },
  {
   "cell_type": "code",
   "execution_count": 4,
   "id": "933d355c",
   "metadata": {},
   "outputs": [
    {
     "data": {
      "text/plain": [
       "(2, 3)"
      ]
     },
     "execution_count": 4,
     "metadata": {},
     "output_type": "execute_result"
    }
   ],
   "source": [
    "test(2,3)"
   ]
  },
  {
   "cell_type": "code",
   "execution_count": 6,
   "id": "0685054c",
   "metadata": {},
   "outputs": [],
   "source": [
    "def test1(*args):\n",
    "    return args"
   ]
  },
  {
   "cell_type": "code",
   "execution_count": 7,
   "id": "3e5392fc",
   "metadata": {},
   "outputs": [
    {
     "data": {
      "text/plain": [
       "(2, 3, 4, 4)"
      ]
     },
     "execution_count": 7,
     "metadata": {},
     "output_type": "execute_result"
    }
   ],
   "source": [
    "test1(2,3,4,4)"
   ]
  },
  {
   "cell_type": "code",
   "execution_count": 8,
   "id": "a893d034",
   "metadata": {},
   "outputs": [
    {
     "data": {
      "text/plain": [
       "('Abhi', 3, 4, 5, [1, 2, 3, 4], (1, 2, 'Abhi'))"
      ]
     },
     "execution_count": 8,
     "metadata": {},
     "output_type": "execute_result"
    }
   ],
   "source": [
    "test1(\"Abhi\", 3,4,5,[1,2,3,4],(1,2,\"Abhi\"))"
   ]
  },
  {
   "cell_type": "code",
   "execution_count": 9,
   "id": "93712ce3",
   "metadata": {},
   "outputs": [],
   "source": [
    "def test2(*name):\n",
    "    return name;"
   ]
  },
  {
   "cell_type": "code",
   "execution_count": 10,
   "id": "ae5f9f80",
   "metadata": {},
   "outputs": [
    {
     "data": {
      "text/plain": [
       "('Yug', 'Abhi', 'Ram', 'Mith')"
      ]
     },
     "execution_count": 10,
     "metadata": {},
     "output_type": "execute_result"
    }
   ],
   "source": [
    "test2(\"Yug\", \"Abhi\", \"Ram\",  \"Mith\")"
   ]
  },
  {
   "cell_type": "code",
   "execution_count": 11,
   "id": "0f35b5a1",
   "metadata": {},
   "outputs": [],
   "source": [
    "def test3(*name,a):\n",
    "    return name,a"
   ]
  },
  {
   "cell_type": "code",
   "execution_count": 13,
   "id": "9cfdbc5d",
   "metadata": {},
   "outputs": [
    {
     "data": {
      "text/plain": [
       "(('abhi', 2, 3, 4), 5)"
      ]
     },
     "execution_count": 13,
     "metadata": {},
     "output_type": "execute_result"
    }
   ],
   "source": [
    "test3(\"abhi\",2,3,4,a=5)"
   ]
  },
  {
   "cell_type": "code",
   "execution_count": 14,
   "id": "56599870",
   "metadata": {},
   "outputs": [],
   "source": [
    "def test4(*name,a,b,c,d):\n",
    "    return name,a,b,c,d"
   ]
  },
  {
   "cell_type": "code",
   "execution_count": 16,
   "id": "5b70c5e8",
   "metadata": {},
   "outputs": [
    {
     "data": {
      "text/plain": [
       "(('ABhi', 2, 4, 4, 5), [1, 2, 3], 2, (1, 2, 3), 6)"
      ]
     },
     "execution_count": 16,
     "metadata": {},
     "output_type": "execute_result"
    }
   ],
   "source": [
    "test4(\"ABhi\", 2,4,4,5,a=[1,2,3],b=2,c=(1,2,3),d=6)"
   ]
  },
  {
   "cell_type": "code",
   "execution_count": 20,
   "id": "ba479ef2",
   "metadata": {},
   "outputs": [],
   "source": [
    "def test5(*name,a,b,c,d):\n",
    "    l=[]\n",
    "    for i in name:\n",
    "        if type(i)==list:\n",
    "            l.append(i)\n",
    "    return i"
   ]
  },
  {
   "cell_type": "code",
   "execution_count": 21,
   "id": "5682616e",
   "metadata": {},
   "outputs": [
    {
     "data": {
      "text/plain": [
       "5"
      ]
     },
     "execution_count": 21,
     "metadata": {},
     "output_type": "execute_result"
    }
   ],
   "source": [
    "test5(\"ABhi\", 2,4,4,5,a=[1,2,3],b=2,c=(1,2,3),d=6)"
   ]
  },
  {
   "cell_type": "code",
   "execution_count": 22,
   "id": "e259effa",
   "metadata": {},
   "outputs": [],
   "source": [
    "def test7(**name):\n",
    "    return name"
   ]
  },
  {
   "cell_type": "code",
   "execution_count": 24,
   "id": "baf238d1",
   "metadata": {},
   "outputs": [
    {
     "data": {
      "text/plain": [
       "{'a': 1, 'b': 2, 'c': 3, 'd': 4, 'e': 5, 'f': 6, 'g': 7}"
      ]
     },
     "execution_count": 24,
     "metadata": {},
     "output_type": "execute_result"
    }
   ],
   "source": [
    "test7(a=1,b=2,c=3,d=4,e=5,f=6,g=7)"
   ]
  },
  {
   "cell_type": "code",
   "execution_count": 25,
   "id": "4fa9869a",
   "metadata": {},
   "outputs": [],
   "source": [
    "def test8(**name):\n",
    "    return name"
   ]
  },
  {
   "cell_type": "code",
   "execution_count": 26,
   "id": "7bf2092c",
   "metadata": {},
   "outputs": [
    {
     "data": {
      "text/plain": [
       "{'a': 'Abhi', 'b': 'Yug'}"
      ]
     },
     "execution_count": 26,
     "metadata": {},
     "output_type": "execute_result"
    }
   ],
   "source": [
    "test8(a=\"Abhi\",b=\"Yug\")"
   ]
  },
  {
   "cell_type": "code",
   "execution_count": 27,
   "id": "2a1a3feb",
   "metadata": {},
   "outputs": [],
   "source": [
    "def test9(a,*name,**kname):\n",
    "    return a.name, kname"
   ]
  },
  {
   "cell_type": "code",
   "execution_count": null,
   "id": "aa18df6d",
   "metadata": {},
   "outputs": [],
   "source": []
  },
  {
   "cell_type": "markdown",
   "id": "73d2aa09",
   "metadata": {},
   "source": [
    "# Anonymous function"
   ]
  },
  {
   "cell_type": "code",
   "execution_count": 34,
   "id": "f9ad47f8",
   "metadata": {},
   "outputs": [],
   "source": [
    "a=lambda a ,b :a*b"
   ]
  },
  {
   "cell_type": "code",
   "execution_count": 35,
   "id": "4a9be042",
   "metadata": {},
   "outputs": [
    {
     "data": {
      "text/plain": [
       "6"
      ]
     },
     "execution_count": 35,
     "metadata": {},
     "output_type": "execute_result"
    }
   ],
   "source": [
    "a(2,3)"
   ]
  },
  {
   "cell_type": "code",
   "execution_count": 40,
   "id": "a3b372ec",
   "metadata": {},
   "outputs": [
    {
     "data": {
      "text/plain": [
       "<function __main__.<lambda>(x)>"
      ]
     },
     "execution_count": 40,
     "metadata": {},
     "output_type": "execute_result"
    }
   ],
   "source": [
    "lambda x:[i for i in x ]"
   ]
  },
  {
   "cell_type": "code",
   "execution_count": 41,
   "id": "1a9a956a",
   "metadata": {},
   "outputs": [],
   "source": [
    "a = lambda **xargs : xargs"
   ]
  },
  {
   "cell_type": "code",
   "execution_count": 43,
   "id": "f3c92140",
   "metadata": {},
   "outputs": [
    {
     "data": {
      "text/plain": [
       "{'b': 2, 'f': 5}"
      ]
     },
     "execution_count": 43,
     "metadata": {},
     "output_type": "execute_result"
    }
   ],
   "source": [
    "a(b=2,f=5)"
   ]
  },
  {
   "cell_type": "code",
   "execution_count": 52,
   "id": "a4553939",
   "metadata": {},
   "outputs": [],
   "source": [
    "c = 15\n",
    "def test16(c,d):\n",
    "    c=5\n",
    "    return c*d;"
   ]
  },
  {
   "cell_type": "code",
   "execution_count": 53,
   "id": "126c8f75",
   "metadata": {},
   "outputs": [
    {
     "data": {
      "text/plain": [
       "250"
      ]
     },
     "execution_count": 53,
     "metadata": {},
     "output_type": "execute_result"
    }
   ],
   "source": [
    "test16(c,50)"
   ]
  },
  {
   "cell_type": "code",
   "execution_count": null,
   "id": "78352889",
   "metadata": {},
   "outputs": [],
   "source": []
  }
 ],
 "metadata": {
  "kernelspec": {
   "display_name": "Python 3",
   "language": "python",
   "name": "python3"
  },
  "language_info": {
   "codemirror_mode": {
    "name": "ipython",
    "version": 3
   },
   "file_extension": ".py",
   "mimetype": "text/x-python",
   "name": "python",
   "nbconvert_exporter": "python",
   "pygments_lexer": "ipython3",
   "version": "3.8.8"
  }
 },
 "nbformat": 4,
 "nbformat_minor": 5
}
