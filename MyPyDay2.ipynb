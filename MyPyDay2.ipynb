{
 "cells": [
  {
   "cell_type": "code",
   "execution_count": 1,
   "id": "37c8a542",
   "metadata": {},
   "outputs": [],
   "source": [
    "name=\"Abhishek\""
   ]
  },
  {
   "cell_type": "code",
   "execution_count": 2,
   "id": "e045f137",
   "metadata": {},
   "outputs": [
    {
     "data": {
      "text/plain": [
       "'e'"
      ]
     },
     "execution_count": 2,
     "metadata": {},
     "output_type": "execute_result"
    }
   ],
   "source": [
    "name[6]"
   ]
  },
  {
   "cell_type": "code",
   "execution_count": 3,
   "id": "11e3b3da",
   "metadata": {},
   "outputs": [
    {
     "data": {
      "text/plain": [
       "'k'"
      ]
     },
     "execution_count": 3,
     "metadata": {},
     "output_type": "execute_result"
    }
   ],
   "source": [
    "name[-1]"
   ]
  },
  {
   "cell_type": "code",
   "execution_count": 4,
   "id": "f4a1fd49",
   "metadata": {},
   "outputs": [],
   "source": [
    "sub=\"My name is Abhishek\""
   ]
  },
  {
   "cell_type": "code",
   "execution_count": 5,
   "id": "9e37fde2",
   "metadata": {},
   "outputs": [
    {
     "data": {
      "text/plain": [
       "'h'"
      ]
     },
     "execution_count": 5,
     "metadata": {},
     "output_type": "execute_result"
    }
   ],
   "source": [
    "sub[-3]"
   ]
  },
  {
   "cell_type": "code",
   "execution_count": 6,
   "id": "dfecae04",
   "metadata": {
    "scrolled": true
   },
   "outputs": [
    {
     "ename": "IndexError",
     "evalue": "string index out of range",
     "output_type": "error",
     "traceback": [
      "\u001b[1;31m---------------------------------------------------------------------------\u001b[0m",
      "\u001b[1;31mIndexError\u001b[0m                                Traceback (most recent call last)",
      "\u001b[1;32m<ipython-input-6-28fb9312493d>\u001b[0m in \u001b[0;36m<module>\u001b[1;34m\u001b[0m\n\u001b[1;32m----> 1\u001b[1;33m \u001b[0msub\u001b[0m\u001b[1;33m[\u001b[0m\u001b[1;36m100\u001b[0m\u001b[1;33m]\u001b[0m\u001b[1;33m\u001b[0m\u001b[1;33m\u001b[0m\u001b[0m\n\u001b[0m",
      "\u001b[1;31mIndexError\u001b[0m: string index out of range"
     ]
    }
   ],
   "source": [
    "sub[100]"
   ]
  },
  {
   "cell_type": "code",
   "execution_count": 7,
   "id": "09772079",
   "metadata": {},
   "outputs": [
    {
     "data": {
      "text/plain": [
       "' na'"
      ]
     },
     "execution_count": 7,
     "metadata": {},
     "output_type": "execute_result"
    }
   ],
   "source": [
    "sub[2:5]"
   ]
  },
  {
   "cell_type": "code",
   "execution_count": 8,
   "id": "7e61fb23",
   "metadata": {},
   "outputs": [
    {
     "data": {
      "text/plain": [
       "'My name i'"
      ]
     },
     "execution_count": 8,
     "metadata": {},
     "output_type": "execute_result"
    }
   ],
   "source": [
    "sub[0:9]"
   ]
  },
  {
   "cell_type": "code",
   "execution_count": 9,
   "id": "bde42b0a",
   "metadata": {},
   "outputs": [
    {
     "data": {
      "text/plain": [
       "'My name is Abhishek'"
      ]
     },
     "execution_count": 9,
     "metadata": {},
     "output_type": "execute_result"
    }
   ],
   "source": [
    "sub[0:100]"
   ]
  },
  {
   "cell_type": "code",
   "execution_count": 10,
   "id": "22be18e1",
   "metadata": {},
   "outputs": [
    {
     "ename": "IndexError",
     "evalue": "string index out of range",
     "output_type": "error",
     "traceback": [
      "\u001b[1;31m---------------------------------------------------------------------------\u001b[0m",
      "\u001b[1;31mIndexError\u001b[0m                                Traceback (most recent call last)",
      "\u001b[1;32m<ipython-input-10-40e77b3419e1>\u001b[0m in \u001b[0;36m<module>\u001b[1;34m\u001b[0m\n\u001b[1;32m----> 1\u001b[1;33m \u001b[0msub\u001b[0m\u001b[1;33m[\u001b[0m\u001b[1;33m-\u001b[0m\u001b[1;36m100\u001b[0m\u001b[1;33m]\u001b[0m\u001b[1;33m\u001b[0m\u001b[1;33m\u001b[0m\u001b[0m\n\u001b[0m",
      "\u001b[1;31mIndexError\u001b[0m: string index out of range"
     ]
    }
   ],
   "source": [
    "sub[-100]"
   ]
  },
  {
   "cell_type": "code",
   "execution_count": 11,
   "id": "cfbaf364",
   "metadata": {},
   "outputs": [
    {
     "data": {
      "text/plain": [
       "''"
      ]
     },
     "execution_count": 11,
     "metadata": {},
     "output_type": "execute_result"
    }
   ],
   "source": [
    "sub[-1:-4]"
   ]
  },
  {
   "cell_type": "code",
   "execution_count": 12,
   "id": "6bd77724",
   "metadata": {},
   "outputs": [
    {
     "data": {
      "text/plain": [
       "'My name is Abhi'"
      ]
     },
     "execution_count": 12,
     "metadata": {},
     "output_type": "execute_result"
    }
   ],
   "source": [
    "sub[0:-4]"
   ]
  },
  {
   "cell_type": "code",
   "execution_count": 16,
   "id": "3f92f9af",
   "metadata": {
    "scrolled": false
   },
   "outputs": [
    {
     "ename": "ValueError",
     "evalue": "slice step cannot be zero",
     "output_type": "error",
     "traceback": [
      "\u001b[1;31m---------------------------------------------------------------------------\u001b[0m",
      "\u001b[1;31mValueError\u001b[0m                                Traceback (most recent call last)",
      "\u001b[1;32m<ipython-input-16-6a00427d7076>\u001b[0m in \u001b[0;36m<module>\u001b[1;34m\u001b[0m\n\u001b[1;32m----> 1\u001b[1;33m \u001b[0msub\u001b[0m\u001b[1;33m[\u001b[0m\u001b[1;36m0\u001b[0m\u001b[1;33m:\u001b[0m\u001b[1;36m100\u001b[0m\u001b[1;33m:\u001b[0m\u001b[1;36m0\u001b[0m\u001b[1;33m]\u001b[0m\u001b[1;33m\u001b[0m\u001b[1;33m\u001b[0m\u001b[0m\n\u001b[0m",
      "\u001b[1;31mValueError\u001b[0m: slice step cannot be zero"
     ]
    }
   ],
   "source": [
    "sub[0:100:0]"
   ]
  },
  {
   "cell_type": "code",
   "execution_count": 17,
   "id": "a40d534a",
   "metadata": {
    "scrolled": true
   },
   "outputs": [
    {
     "data": {
      "text/plain": [
       "'M aei bihk'"
      ]
     },
     "execution_count": 17,
     "metadata": {},
     "output_type": "execute_result"
    }
   ],
   "source": [
    "sub[0:100:2]"
   ]
  },
  {
   "cell_type": "code",
   "execution_count": 18,
   "id": "1a7aa6f2",
   "metadata": {},
   "outputs": [
    {
     "data": {
      "text/plain": [
       "''"
      ]
     },
     "execution_count": 18,
     "metadata": {},
     "output_type": "execute_result"
    }
   ],
   "source": [
    "sub[0:100:-1]"
   ]
  },
  {
   "cell_type": "code",
   "execution_count": 19,
   "id": "bc799676",
   "metadata": {},
   "outputs": [
    {
     "data": {
      "text/plain": [
       "' '"
      ]
     },
     "execution_count": 19,
     "metadata": {},
     "output_type": "execute_result"
    }
   ],
   "source": [
    "sub[-9]"
   ]
  },
  {
   "cell_type": "code",
   "execution_count": 20,
   "id": "429a2587",
   "metadata": {},
   "outputs": [
    {
     "data": {
      "text/plain": [
       "'k'"
      ]
     },
     "execution_count": 20,
     "metadata": {},
     "output_type": "execute_result"
    }
   ],
   "source": [
    "sub[-1]"
   ]
  },
  {
   "cell_type": "code",
   "execution_count": 21,
   "id": "070865d7",
   "metadata": {},
   "outputs": [
    {
     "data": {
      "text/plain": [
       "'My name is Abhishek'"
      ]
     },
     "execution_count": 21,
     "metadata": {},
     "output_type": "execute_result"
    }
   ],
   "source": [
    "sub[:]"
   ]
  },
  {
   "cell_type": "code",
   "execution_count": 28,
   "id": "becea2a8",
   "metadata": {},
   "outputs": [
    {
     "data": {
      "text/plain": [
       "''"
      ]
     },
     "execution_count": 28,
     "metadata": {},
     "output_type": "execute_result"
    }
   ],
   "source": [
    "sub[0:-18:-1]"
   ]
  },
  {
   "cell_type": "code",
   "execution_count": 25,
   "id": "2a7743cf",
   "metadata": {},
   "outputs": [
    {
     "data": {
      "text/plain": [
       "19"
      ]
     },
     "execution_count": 25,
     "metadata": {},
     "output_type": "execute_result"
    }
   ],
   "source": [
    "len(sub)"
   ]
  },
  {
   "cell_type": "code",
   "execution_count": 29,
   "id": "01fbcb06",
   "metadata": {},
   "outputs": [],
   "source": [
    "a=\"kumar\""
   ]
  },
  {
   "cell_type": "code",
   "execution_count": 30,
   "id": "f8ad563b",
   "metadata": {},
   "outputs": [
    {
     "data": {
      "text/plain": [
       "'ar'"
      ]
     },
     "execution_count": 30,
     "metadata": {},
     "output_type": "execute_result"
    }
   ],
   "source": [
    "a[-2:]"
   ]
  },
  {
   "cell_type": "code",
   "execution_count": 31,
   "id": "4b7cf742",
   "metadata": {},
   "outputs": [
    {
     "data": {
      "text/plain": [
       "'a'"
      ]
     },
     "execution_count": 31,
     "metadata": {},
     "output_type": "execute_result"
    }
   ],
   "source": [
    "a[-2:-1]"
   ]
  },
  {
   "cell_type": "code",
   "execution_count": 32,
   "id": "b2abbe0d",
   "metadata": {},
   "outputs": [
    {
     "data": {
      "text/plain": [
       "''"
      ]
     },
     "execution_count": 32,
     "metadata": {},
     "output_type": "execute_result"
    }
   ],
   "source": [
    "a[-2:-5]"
   ]
  },
  {
   "cell_type": "code",
   "execution_count": 33,
   "id": "252ac35e",
   "metadata": {},
   "outputs": [
    {
     "data": {
      "text/plain": [
       "'amu'"
      ]
     },
     "execution_count": 33,
     "metadata": {},
     "output_type": "execute_result"
    }
   ],
   "source": [
    "a[-2:-5:-1]"
   ]
  },
  {
   "cell_type": "code",
   "execution_count": 34,
   "id": "108d619c",
   "metadata": {},
   "outputs": [
    {
     "data": {
      "text/plain": [
       "'ramuk'"
      ]
     },
     "execution_count": 34,
     "metadata": {},
     "output_type": "execute_result"
    }
   ],
   "source": [
    "a[::-1]"
   ]
  },
  {
   "cell_type": "code",
   "execution_count": 35,
   "id": "6fd53ff3",
   "metadata": {},
   "outputs": [],
   "source": [
    "u=\"I am at Ineuron\""
   ]
  },
  {
   "cell_type": "code",
   "execution_count": 36,
   "id": "14b856c5",
   "metadata": {},
   "outputs": [
    {
     "data": {
      "text/plain": [
       "'noruenI ta ma I'"
      ]
     },
     "execution_count": 36,
     "metadata": {},
     "output_type": "execute_result"
    }
   ],
   "source": [
    "u[::-1]"
   ]
  },
  {
   "cell_type": "code",
   "execution_count": 37,
   "id": "08416d0d",
   "metadata": {},
   "outputs": [
    {
     "data": {
      "text/plain": [
       "'noruenI ta ma I'"
      ]
     },
     "execution_count": 37,
     "metadata": {},
     "output_type": "execute_result"
    }
   ],
   "source": [
    "u[-1::-1]"
   ]
  },
  {
   "cell_type": "code",
   "execution_count": 38,
   "id": "27c7d8fe",
   "metadata": {},
   "outputs": [
    {
     "data": {
      "text/plain": [
       "''"
      ]
     },
     "execution_count": 38,
     "metadata": {},
     "output_type": "execute_result"
    }
   ],
   "source": [
    "u[-1:-9:1]"
   ]
  },
  {
   "cell_type": "code",
   "execution_count": 39,
   "id": "ca5262f7",
   "metadata": {},
   "outputs": [
    {
     "data": {
      "text/plain": [
       "''"
      ]
     },
     "execution_count": 39,
     "metadata": {},
     "output_type": "execute_result"
    }
   ],
   "source": [
    "u[-1:8:1]"
   ]
  },
  {
   "cell_type": "code",
   "execution_count": 40,
   "id": "8f966c09",
   "metadata": {},
   "outputs": [
    {
     "data": {
      "text/plain": [
       "''"
      ]
     },
     "execution_count": 40,
     "metadata": {},
     "output_type": "execute_result"
    }
   ],
   "source": [
    "u[0:7:-1]"
   ]
  },
  {
   "cell_type": "code",
   "execution_count": 42,
   "id": "3b3ed476",
   "metadata": {
    "scrolled": true
   },
   "outputs": [
    {
     "data": {
      "text/plain": [
       "''"
      ]
     },
     "execution_count": 42,
     "metadata": {},
     "output_type": "execute_result"
    }
   ],
   "source": [
    "u[0:-8:-1]"
   ]
  },
  {
   "cell_type": "code",
   "execution_count": 43,
   "id": "1a3f2efc",
   "metadata": {},
   "outputs": [
    {
     "data": {
      "text/plain": [
       "'I am at'"
      ]
     },
     "execution_count": 43,
     "metadata": {},
     "output_type": "execute_result"
    }
   ],
   "source": [
    "u[0:-8]"
   ]
  },
  {
   "cell_type": "code",
   "execution_count": 49,
   "id": "856da5b4",
   "metadata": {},
   "outputs": [
    {
     "data": {
      "text/plain": [
       "'I am at'"
      ]
     },
     "execution_count": 49,
     "metadata": {},
     "output_type": "execute_result"
    }
   ],
   "source": [
    "u[0:-8:1]"
   ]
  },
  {
   "cell_type": "code",
   "execution_count": 50,
   "id": "50867ad6",
   "metadata": {},
   "outputs": [],
   "source": [
    "abhi=\"Abhi\"*4"
   ]
  },
  {
   "cell_type": "code",
   "execution_count": null,
   "id": "09880ef3",
   "metadata": {},
   "outputs": [],
   "source": []
  },
  {
   "cell_type": "code",
   "execution_count": 51,
   "id": "678b83d6",
   "metadata": {},
   "outputs": [
    {
     "data": {
      "text/plain": [
       "'AbhiAbhiAbhiAbhi'"
      ]
     },
     "execution_count": 51,
     "metadata": {},
     "output_type": "execute_result"
    }
   ],
   "source": [
    "abhi"
   ]
  },
  {
   "cell_type": "code",
   "execution_count": 52,
   "id": "51aea9a6",
   "metadata": {},
   "outputs": [
    {
     "data": {
      "text/plain": [
       "'I am at Ineuron'"
      ]
     },
     "execution_count": 52,
     "metadata": {},
     "output_type": "execute_result"
    }
   ],
   "source": []
  },
  {
   "cell_type": "code",
   "execution_count": 54,
   "id": "55ae2220",
   "metadata": {},
   "outputs": [
    {
     "data": {
      "text/plain": [
       "2"
      ]
     },
     "execution_count": 54,
     "metadata": {},
     "output_type": "execute_result"
    }
   ],
   "source": [
    "u.find(\"a\")"
   ]
  },
  {
   "cell_type": "code",
   "execution_count": 55,
   "id": "8ff3b44d",
   "metadata": {},
   "outputs": [
    {
     "data": {
      "text/plain": [
       "'I am at ineuron'"
      ]
     },
     "execution_count": 55,
     "metadata": {},
     "output_type": "execute_result"
    }
   ],
   "source": [
    "u.capitalize()"
   ]
  },
  {
   "cell_type": "code",
   "execution_count": 56,
   "id": "158721fa",
   "metadata": {},
   "outputs": [
    {
     "data": {
      "text/plain": [
       "10"
      ]
     },
     "execution_count": 56,
     "metadata": {},
     "output_type": "execute_result"
    }
   ],
   "source": [
    "u.find(\"eu\")"
   ]
  },
  {
   "cell_type": "code",
   "execution_count": 57,
   "id": "99f690ab",
   "metadata": {},
   "outputs": [
    {
     "data": {
      "text/plain": [
       "2"
      ]
     },
     "execution_count": 57,
     "metadata": {},
     "output_type": "execute_result"
    }
   ],
   "source": [
    "u.count(\"a\")"
   ]
  },
  {
   "cell_type": "code",
   "execution_count": 58,
   "id": "d19574d9",
   "metadata": {},
   "outputs": [
    {
     "data": {
      "text/plain": [
       "['I', 'am', 'at', 'Ineuron']"
      ]
     },
     "execution_count": 58,
     "metadata": {},
     "output_type": "execute_result"
    }
   ],
   "source": [
    "u.split()"
   ]
  },
  {
   "cell_type": "code",
   "execution_count": 59,
   "id": "0cadfeff",
   "metadata": {},
   "outputs": [
    {
     "data": {
      "text/plain": [
       "list"
      ]
     },
     "execution_count": 59,
     "metadata": {},
     "output_type": "execute_result"
    }
   ],
   "source": [
    "type(u.split())"
   ]
  },
  {
   "cell_type": "code",
   "execution_count": 61,
   "id": "7ba80e71",
   "metadata": {},
   "outputs": [
    {
     "data": {
      "text/plain": [
       "['I']"
      ]
     },
     "execution_count": 61,
     "metadata": {},
     "output_type": "execute_result"
    }
   ],
   "source": [
    "u.split()[0:1]"
   ]
  },
  {
   "cell_type": "code",
   "execution_count": 62,
   "id": "b0d1b461",
   "metadata": {},
   "outputs": [
    {
     "data": {
      "text/plain": [
       "['I ', 'm ', 't Ineuron']"
      ]
     },
     "execution_count": 62,
     "metadata": {},
     "output_type": "execute_result"
    }
   ],
   "source": [
    "u.split(\"a\")"
   ]
  },
  {
   "cell_type": "code",
   "execution_count": 63,
   "id": "1442170a",
   "metadata": {},
   "outputs": [
    {
     "data": {
      "text/plain": [
       "'I AM AT INEURON'"
      ]
     },
     "execution_count": 63,
     "metadata": {},
     "output_type": "execute_result"
    }
   ],
   "source": [
    "u.upper()"
   ]
  },
  {
   "cell_type": "code",
   "execution_count": 64,
   "id": "f01eeaa1",
   "metadata": {},
   "outputs": [
    {
     "data": {
      "text/plain": [
       "'I am at ineuron'"
      ]
     },
     "execution_count": 64,
     "metadata": {},
     "output_type": "execute_result"
    }
   ],
   "source": [
    "u.capitalize()"
   ]
  },
  {
   "cell_type": "code",
   "execution_count": 66,
   "id": "31a35ae7",
   "metadata": {},
   "outputs": [
    {
     "data": {
      "text/plain": [
       "'i AM AT iNEURON'"
      ]
     },
     "execution_count": 66,
     "metadata": {},
     "output_type": "execute_result"
    }
   ],
   "source": [
    "u.swapcase()"
   ]
  },
  {
   "cell_type": "code",
   "execution_count": 68,
   "id": "124641a3",
   "metadata": {},
   "outputs": [
    {
     "data": {
      "text/plain": [
       "'I Am At Ineuron'"
      ]
     },
     "execution_count": 68,
     "metadata": {},
     "output_type": "execute_result"
    }
   ],
   "source": [
    "u.title()"
   ]
  },
  {
   "cell_type": "code",
   "execution_count": 69,
   "id": "ba9f3c8c",
   "metadata": {},
   "outputs": [
    {
     "data": {
      "text/plain": [
       "'I am at ineuron'"
      ]
     },
     "execution_count": 69,
     "metadata": {},
     "output_type": "execute_result"
    }
   ],
   "source": [
    "u.capitalize()"
   ]
  },
  {
   "cell_type": "code",
   "execution_count": 70,
   "id": "53364716",
   "metadata": {},
   "outputs": [],
   "source": [
    "b=\"sudh\"\n",
    "c=\"ineuron\""
   ]
  },
  {
   "cell_type": "code",
   "execution_count": 71,
   "id": "c694b393",
   "metadata": {},
   "outputs": [
    {
     "data": {
      "text/plain": [
       "'isudhnsudhesudhusudhrsudhosudhn'"
      ]
     },
     "execution_count": 71,
     "metadata": {},
     "output_type": "execute_result"
    }
   ],
   "source": [
    "b.join(c)"
   ]
  },
  {
   "cell_type": "code",
   "execution_count": 72,
   "id": "98d8fcf0",
   "metadata": {},
   "outputs": [
    {
     "data": {
      "text/plain": [
       "'A b h i'"
      ]
     },
     "execution_count": 72,
     "metadata": {},
     "output_type": "execute_result"
    }
   ],
   "source": [
    "\" \".join(\"Abhi\")"
   ]
  },
  {
   "cell_type": "code",
   "execution_count": 74,
   "id": "bef8bad5",
   "metadata": {},
   "outputs": [
    {
     "data": {
      "text/plain": [
       "<reversed at 0x27f1798b670>"
      ]
     },
     "execution_count": 74,
     "metadata": {},
     "output_type": "execute_result"
    }
   ],
   "source": [
    "reversed(\"Abhi\")"
   ]
  },
  {
   "cell_type": "code",
   "execution_count": 77,
   "id": "3e7ebcaf",
   "metadata": {},
   "outputs": [
    {
     "name": "stdout",
     "output_type": "stream",
     "text": [
      "i\n",
      "h\n",
      "b\n",
      "A\n"
     ]
    }
   ],
   "source": [
    "for i in reversed(\"Abhi\"):\n",
    " print(i)"
   ]
  },
  {
   "cell_type": "code",
   "execution_count": 78,
   "id": "9c1a3cad",
   "metadata": {},
   "outputs": [],
   "source": [
    "space=\" Abhi \""
   ]
  },
  {
   "cell_type": "code",
   "execution_count": 79,
   "id": "834b19a1",
   "metadata": {},
   "outputs": [
    {
     "data": {
      "text/plain": [
       "'Abhi '"
      ]
     },
     "execution_count": 79,
     "metadata": {},
     "output_type": "execute_result"
    }
   ],
   "source": [
    "space.lstrip()"
   ]
  },
  {
   "cell_type": "code",
   "execution_count": 80,
   "id": "aa42b7d3",
   "metadata": {},
   "outputs": [
    {
     "data": {
      "text/plain": [
       "' Abhi'"
      ]
     },
     "execution_count": 80,
     "metadata": {},
     "output_type": "execute_result"
    }
   ],
   "source": [
    "space.rstrip()"
   ]
  },
  {
   "cell_type": "code",
   "execution_count": 81,
   "id": "9e646753",
   "metadata": {},
   "outputs": [
    {
     "data": {
      "text/plain": [
       "'Abhi'"
      ]
     },
     "execution_count": 81,
     "metadata": {},
     "output_type": "execute_result"
    }
   ],
   "source": [
    "space.strip()"
   ]
  },
  {
   "cell_type": "code",
   "execution_count": 82,
   "id": "f04dba62",
   "metadata": {},
   "outputs": [
    {
     "data": {
      "text/plain": [
       "' Dbhi '"
      ]
     },
     "execution_count": 82,
     "metadata": {},
     "output_type": "execute_result"
    }
   ],
   "source": [
    "space.replace(\"A\",\"D\")"
   ]
  },
  {
   "cell_type": "code",
   "execution_count": 85,
   "id": "f714b3f2",
   "metadata": {},
   "outputs": [
    {
     "data": {
      "text/plain": [
       "'=============================================== Abhi ==============================================='"
      ]
     },
     "execution_count": 85,
     "metadata": {},
     "output_type": "execute_result"
    }
   ],
   "source": [
    "space.center(100, \"=\")"
   ]
  },
  {
   "cell_type": "code",
   "execution_count": 86,
   "id": "cfe39988",
   "metadata": {},
   "outputs": [
    {
     "data": {
      "text/plain": [
       "'Abhi    Dhan'"
      ]
     },
     "execution_count": 86,
     "metadata": {},
     "output_type": "execute_result"
    }
   ],
   "source": [
    "\"Abhi\\tDhan\".expandtabs()"
   ]
  },
  {
   "cell_type": "code",
   "execution_count": 87,
   "id": "698ac67a",
   "metadata": {},
   "outputs": [
    {
     "data": {
      "text/plain": [
       "b'I am at Ineuron'"
      ]
     },
     "execution_count": 87,
     "metadata": {},
     "output_type": "execute_result"
    }
   ],
   "source": [
    "u.encode()"
   ]
  },
  {
   "cell_type": "code",
   "execution_count": 92,
   "id": "8ffe81d4",
   "metadata": {},
   "outputs": [],
   "source": [
    "l=[\"Abhi\", \"Dhan\"]"
   ]
  },
  {
   "cell_type": "code",
   "execution_count": 89,
   "id": "6e3c8141",
   "metadata": {},
   "outputs": [
    {
     "data": {
      "text/plain": [
       "'Dhan'"
      ]
     },
     "execution_count": 89,
     "metadata": {},
     "output_type": "execute_result"
    }
   ],
   "source": [
    "l[2]"
   ]
  },
  {
   "cell_type": "code",
   "execution_count": 90,
   "id": "f2174e0b",
   "metadata": {},
   "outputs": [
    {
     "data": {
      "text/plain": [
       "'a'"
      ]
     },
     "execution_count": 90,
     "metadata": {},
     "output_type": "execute_result"
    }
   ],
   "source": [
    "l[2][2]"
   ]
  },
  {
   "cell_type": "code",
   "execution_count": 95,
   "id": "7ec90526",
   "metadata": {},
   "outputs": [
    {
     "data": {
      "text/plain": [
       "['Abhi',\n",
       " 'Dhan',\n",
       " 'Abhi',\n",
       " 'Dhan',\n",
       " 'Abhi',\n",
       " 'Dhan',\n",
       " 'Abhi',\n",
       " 'Dhan',\n",
       " 'Abhi',\n",
       " 'Dhan',\n",
       " 'Abhi',\n",
       " 'Dhan',\n",
       " 'Abhi',\n",
       " 'Dhan',\n",
       " 'Abhi',\n",
       " 'Dhan',\n",
       " 'Abhi',\n",
       " 'Dhan',\n",
       " 'Abhi',\n",
       " 'Dhan',\n",
       " 'Abhi',\n",
       " 'Dhan',\n",
       " 'Abhi',\n",
       " 'Dhan',\n",
       " 'Abhi',\n",
       " 'Dhan',\n",
       " 'Abhi',\n",
       " 'Dhan',\n",
       " 'Abhi',\n",
       " 'Dhan',\n",
       " 'Abhi',\n",
       " 'Dhan',\n",
       " 'Abhi',\n",
       " 'Dhan',\n",
       " 'Abhi',\n",
       " 'Dhan',\n",
       " 'Abhi',\n",
       " 'Dhan']"
      ]
     },
     "execution_count": 95,
     "metadata": {},
     "output_type": "execute_result"
    }
   ],
   "source": [
    "l*19"
   ]
  },
  {
   "cell_type": "code",
   "execution_count": 96,
   "id": "2c11959d",
   "metadata": {},
   "outputs": [],
   "source": [
    "li=[\"Abhi\", 10, True, 3+7j ]"
   ]
  },
  {
   "cell_type": "code",
   "execution_count": 98,
   "id": "d41ffe1a",
   "metadata": {},
   "outputs": [],
   "source": [
    "li[0]='aBHISHEK'"
   ]
  },
  {
   "cell_type": "code",
   "execution_count": 100,
   "id": "60695dcb",
   "metadata": {},
   "outputs": [
    {
     "data": {
      "text/plain": [
       "['aBHISHEK', 10, True, (3+7j)]"
      ]
     },
     "execution_count": 100,
     "metadata": {},
     "output_type": "execute_result"
    }
   ],
   "source": [
    "li"
   ]
  },
  {
   "cell_type": "code",
   "execution_count": 101,
   "id": "1f284f81",
   "metadata": {},
   "outputs": [
    {
     "data": {
      "text/plain": [
       "'aBHISHEK'"
      ]
     },
     "execution_count": 101,
     "metadata": {},
     "output_type": "execute_result"
    }
   ],
   "source": [
    "li[0]"
   ]
  },
  {
   "cell_type": "code",
   "execution_count": 104,
   "id": "11f01617",
   "metadata": {},
   "outputs": [
    {
     "data": {
      "text/plain": [
       "'H'"
      ]
     },
     "execution_count": 104,
     "metadata": {},
     "output_type": "execute_result"
    }
   ],
   "source": [
    "li[0][5]"
   ]
  },
  {
   "cell_type": "code",
   "execution_count": null,
   "id": "5bea9da6",
   "metadata": {},
   "outputs": [],
   "source": [
    "# Strings are immutable while lists are mutable"
   ]
  },
  {
   "cell_type": "code",
   "execution_count": 106,
   "id": "dbbcda46",
   "metadata": {},
   "outputs": [
    {
     "data": {
      "text/plain": [
       "True"
      ]
     },
     "execution_count": 106,
     "metadata": {},
     "output_type": "execute_result"
    }
   ],
   "source": [
    "True in li"
   ]
  },
  {
   "cell_type": "code",
   "execution_count": 107,
   "id": "eff46c1e",
   "metadata": {},
   "outputs": [
    {
     "data": {
      "text/plain": [
       "False"
      ]
     },
     "execution_count": 107,
     "metadata": {},
     "output_type": "execute_result"
    }
   ],
   "source": [
    "345 in li"
   ]
  },
  {
   "cell_type": "code",
   "execution_count": 109,
   "id": "49f3e534",
   "metadata": {},
   "outputs": [],
   "source": [
    "l1=li+l"
   ]
  },
  {
   "cell_type": "code",
   "execution_count": 110,
   "id": "e7b41c97",
   "metadata": {},
   "outputs": [
    {
     "data": {
      "text/plain": [
       "['aBHISHEK', 10, True, (3+7j), 'Abhi', 'Dhan']"
      ]
     },
     "execution_count": 110,
     "metadata": {},
     "output_type": "execute_result"
    }
   ],
   "source": [
    "l1"
   ]
  },
  {
   "cell_type": "code",
   "execution_count": 111,
   "id": "bdb0550d",
   "metadata": {},
   "outputs": [
    {
     "data": {
      "text/plain": [
       "True"
      ]
     },
     "execution_count": 111,
     "metadata": {},
     "output_type": "execute_result"
    }
   ],
   "source": [
    "li.pop(2)"
   ]
  },
  {
   "cell_type": "code",
   "execution_count": 112,
   "id": "5255269c",
   "metadata": {},
   "outputs": [
    {
     "data": {
      "text/plain": [
       "['aBHISHEK', 10, True, (3+7j), 'Abhi', 'Dhan']"
      ]
     },
     "execution_count": 112,
     "metadata": {},
     "output_type": "execute_result"
    }
   ],
   "source": [
    "l1"
   ]
  },
  {
   "cell_type": "code",
   "execution_count": 113,
   "id": "181f3e6e",
   "metadata": {},
   "outputs": [
    {
     "data": {
      "text/plain": [
       "['aBHISHEK', 10, (3+7j)]"
      ]
     },
     "execution_count": 113,
     "metadata": {},
     "output_type": "execute_result"
    }
   ],
   "source": [
    "li"
   ]
  },
  {
   "cell_type": "code",
   "execution_count": 114,
   "id": "b077572e",
   "metadata": {},
   "outputs": [],
   "source": [
    "l1.append(li)"
   ]
  },
  {
   "cell_type": "code",
   "execution_count": 115,
   "id": "2e893899",
   "metadata": {},
   "outputs": [
    {
     "data": {
      "text/plain": [
       "['aBHISHEK', 10, (3+7j)]"
      ]
     },
     "execution_count": 115,
     "metadata": {},
     "output_type": "execute_result"
    }
   ],
   "source": [
    "li"
   ]
  },
  {
   "cell_type": "code",
   "execution_count": 116,
   "id": "aadf69e1",
   "metadata": {},
   "outputs": [
    {
     "data": {
      "text/plain": [
       "['aBHISHEK', 10, True, (3+7j), 'Abhi', 'Dhan', ['aBHISHEK', 10, (3+7j)]]"
      ]
     },
     "execution_count": 116,
     "metadata": {},
     "output_type": "execute_result"
    }
   ],
   "source": [
    "l1"
   ]
  },
  {
   "cell_type": "code",
   "execution_count": 117,
   "id": "b476d428",
   "metadata": {},
   "outputs": [
    {
     "data": {
      "text/plain": [
       "['aBHISHEK', 10, (3+7j)]"
      ]
     },
     "execution_count": 117,
     "metadata": {},
     "output_type": "execute_result"
    }
   ],
   "source": [
    "l1[-1]"
   ]
  },
  {
   "cell_type": "code",
   "execution_count": 121,
   "id": "d4225b2b",
   "metadata": {},
   "outputs": [],
   "source": [
    "l1.insert(3,3565665)"
   ]
  },
  {
   "cell_type": "code",
   "execution_count": 122,
   "id": "9c4f3417",
   "metadata": {},
   "outputs": [
    {
     "data": {
      "text/plain": [
       "['aBHISHEK',\n",
       " 10,\n",
       " True,\n",
       " 3565665,\n",
       " (3+7j),\n",
       " 'Abhi',\n",
       " 'Dhan',\n",
       " ['aBHISHEK', 10, (3+7j)],\n",
       " 3]"
      ]
     },
     "execution_count": 122,
     "metadata": {},
     "output_type": "execute_result"
    }
   ],
   "source": [
    "l1"
   ]
  },
  {
   "cell_type": "code",
   "execution_count": 123,
   "id": "0c2eedb8",
   "metadata": {},
   "outputs": [
    {
     "data": {
      "text/plain": [
       "['aBHISHEK',\n",
       " 10,\n",
       " True,\n",
       " 3565665,\n",
       " (3+7j),\n",
       " 'Abhi',\n",
       " 'Dhan',\n",
       " ['aBHISHEK', 10, (3+7j)],\n",
       " 3]"
      ]
     },
     "execution_count": 123,
     "metadata": {},
     "output_type": "execute_result"
    }
   ],
   "source": [
    "l1"
   ]
  },
  {
   "cell_type": "code",
   "execution_count": 124,
   "id": "7899ac5d",
   "metadata": {},
   "outputs": [
    {
     "data": {
      "text/plain": [
       "3"
      ]
     },
     "execution_count": 124,
     "metadata": {},
     "output_type": "execute_result"
    }
   ],
   "source": [
    "l1.pop()"
   ]
  },
  {
   "cell_type": "code",
   "execution_count": 125,
   "id": "7f2e7b04",
   "metadata": {},
   "outputs": [
    {
     "data": {
      "text/plain": [
       "['aBHISHEK',\n",
       " 10,\n",
       " True,\n",
       " 3565665,\n",
       " (3+7j),\n",
       " 'Abhi',\n",
       " 'Dhan',\n",
       " ['aBHISHEK', 10, (3+7j)]]"
      ]
     },
     "execution_count": 125,
     "metadata": {},
     "output_type": "execute_result"
    }
   ],
   "source": [
    "l1"
   ]
  },
  {
   "cell_type": "code",
   "execution_count": 126,
   "id": "763960d7",
   "metadata": {},
   "outputs": [
    {
     "data": {
      "text/plain": [
       "['aBHISHEK', 10, (3+7j)]"
      ]
     },
     "execution_count": 126,
     "metadata": {},
     "output_type": "execute_result"
    }
   ],
   "source": [
    "l1.pop()"
   ]
  },
  {
   "cell_type": "code",
   "execution_count": 127,
   "id": "fd67dea7",
   "metadata": {},
   "outputs": [
    {
     "data": {
      "text/plain": [
       "['aBHISHEK', 10, True, 3565665, (3+7j), 'Abhi', 'Dhan']"
      ]
     },
     "execution_count": 127,
     "metadata": {},
     "output_type": "execute_result"
    }
   ],
   "source": [
    "l1"
   ]
  },
  {
   "cell_type": "code",
   "execution_count": null,
   "id": "34a5beb7",
   "metadata": {},
   "outputs": [],
   "source": []
  },
  {
   "cell_type": "code",
   "execution_count": null,
   "id": "4a215309",
   "metadata": {},
   "outputs": [],
   "source": []
  }
 ],
 "metadata": {
  "kernelspec": {
   "display_name": "Python 3",
   "language": "python",
   "name": "python3"
  },
  "language_info": {
   "codemirror_mode": {
    "name": "ipython",
    "version": 3
   },
   "file_extension": ".py",
   "mimetype": "text/x-python",
   "name": "python",
   "nbconvert_exporter": "python",
   "pygments_lexer": "ipython3",
   "version": "3.8.8"
  }
 },
 "nbformat": 4,
 "nbformat_minor": 5
}
